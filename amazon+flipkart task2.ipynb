{
 "cells": [
  {
   "cell_type": "code",
   "execution_count": 5,
   "id": "6fb24f0a",
   "metadata": {},
   "outputs": [],
   "source": [
    "import numpy as np\n",
    "import pandas as pd\n",
    "import matplotlib.pyplot as plt\n",
    "import seaborn as sns\n",
    "from sklearn.model_selection import train_test_split\n",
    "from sklearn.preprocessing import StandardScaler\n",
    "import statsmodels.api as sm\n",
    "from statsmodels.stats.outliers_influence import variance_inflation_factor\n",
    "import warnings\n",
    "warnings.filterwarnings('ignore')"
   ]
  },
  {
   "cell_type": "code",
   "execution_count": 6,
   "id": "ec51734c",
   "metadata": {},
   "outputs": [],
   "source": [
    "house_df = pd.read_csv('internship dataset.csv')"
   ]
  },
  {
   "cell_type": "code",
   "execution_count": 7,
   "id": "e938e1d4",
   "metadata": {},
   "outputs": [
    {
     "data": {
      "text/html": [
       "<div>\n",
       "<style scoped>\n",
       "    .dataframe tbody tr th:only-of-type {\n",
       "        vertical-align: middle;\n",
       "    }\n",
       "\n",
       "    .dataframe tbody tr th {\n",
       "        vertical-align: top;\n",
       "    }\n",
       "\n",
       "    .dataframe thead th {\n",
       "        text-align: right;\n",
       "    }\n",
       "</style>\n",
       "<table border=\"1\" class=\"dataframe\">\n",
       "  <thead>\n",
       "    <tr style=\"text-align: right;\">\n",
       "      <th></th>\n",
       "      <th>Transaction date</th>\n",
       "      <th>House Age</th>\n",
       "      <th>Distance from nearest Metro station (km)</th>\n",
       "      <th>Number of convenience stores</th>\n",
       "      <th>latitude</th>\n",
       "      <th>longitude</th>\n",
       "      <th>Number of bedrooms</th>\n",
       "      <th>House size (sqft)</th>\n",
       "      <th>House price of unit area</th>\n",
       "    </tr>\n",
       "  </thead>\n",
       "  <tbody>\n",
       "    <tr>\n",
       "      <th>0</th>\n",
       "      <td>2012.917</td>\n",
       "      <td>32.0</td>\n",
       "      <td>84.87882</td>\n",
       "      <td>10</td>\n",
       "      <td>24.98298</td>\n",
       "      <td>121.54024</td>\n",
       "      <td>1</td>\n",
       "      <td>575</td>\n",
       "      <td>37.9</td>\n",
       "    </tr>\n",
       "    <tr>\n",
       "      <th>1</th>\n",
       "      <td>2012.917</td>\n",
       "      <td>19.5</td>\n",
       "      <td>306.59470</td>\n",
       "      <td>9</td>\n",
       "      <td>24.98034</td>\n",
       "      <td>121.53951</td>\n",
       "      <td>2</td>\n",
       "      <td>1240</td>\n",
       "      <td>42.2</td>\n",
       "    </tr>\n",
       "    <tr>\n",
       "      <th>2</th>\n",
       "      <td>2013.583</td>\n",
       "      <td>13.3</td>\n",
       "      <td>561.98450</td>\n",
       "      <td>5</td>\n",
       "      <td>24.98746</td>\n",
       "      <td>121.54391</td>\n",
       "      <td>3</td>\n",
       "      <td>1060</td>\n",
       "      <td>47.3</td>\n",
       "    </tr>\n",
       "    <tr>\n",
       "      <th>3</th>\n",
       "      <td>2013.500</td>\n",
       "      <td>13.3</td>\n",
       "      <td>561.98450</td>\n",
       "      <td>5</td>\n",
       "      <td>24.98746</td>\n",
       "      <td>121.54391</td>\n",
       "      <td>2</td>\n",
       "      <td>875</td>\n",
       "      <td>54.8</td>\n",
       "    </tr>\n",
       "    <tr>\n",
       "      <th>4</th>\n",
       "      <td>2012.833</td>\n",
       "      <td>5.0</td>\n",
       "      <td>390.56840</td>\n",
       "      <td>5</td>\n",
       "      <td>24.97937</td>\n",
       "      <td>121.54245</td>\n",
       "      <td>1</td>\n",
       "      <td>491</td>\n",
       "      <td>43.1</td>\n",
       "    </tr>\n",
       "  </tbody>\n",
       "</table>\n",
       "</div>"
      ],
      "text/plain": [
       "   Transaction date  House Age  Distance from nearest Metro station (km)  \\\n",
       "0          2012.917       32.0                                  84.87882   \n",
       "1          2012.917       19.5                                 306.59470   \n",
       "2          2013.583       13.3                                 561.98450   \n",
       "3          2013.500       13.3                                 561.98450   \n",
       "4          2012.833        5.0                                 390.56840   \n",
       "\n",
       "   Number of convenience stores  latitude  longitude  Number of bedrooms  \\\n",
       "0                            10  24.98298  121.54024                   1   \n",
       "1                             9  24.98034  121.53951                   2   \n",
       "2                             5  24.98746  121.54391                   3   \n",
       "3                             5  24.98746  121.54391                   2   \n",
       "4                             5  24.97937  121.54245                   1   \n",
       "\n",
       "   House size (sqft)  House price of unit area  \n",
       "0                575                      37.9  \n",
       "1               1240                      42.2  \n",
       "2               1060                      47.3  \n",
       "3                875                      54.8  \n",
       "4                491                      43.1  "
      ]
     },
     "execution_count": 7,
     "metadata": {},
     "output_type": "execute_result"
    }
   ],
   "source": [
    "house_df.head()"
   ]
  },
  {
   "cell_type": "code",
   "execution_count": 8,
   "id": "812d3917",
   "metadata": {},
   "outputs": [
    {
     "data": {
      "text/plain": [
       "(414, 9)"
      ]
     },
     "execution_count": 8,
     "metadata": {},
     "output_type": "execute_result"
    }
   ],
   "source": [
    "house_df.shape"
   ]
  },
  {
   "cell_type": "code",
   "execution_count": 9,
   "id": "38447ec6",
   "metadata": {},
   "outputs": [
    {
     "name": "stdout",
     "output_type": "stream",
     "text": [
      "<class 'pandas.core.frame.DataFrame'>\n",
      "RangeIndex: 414 entries, 0 to 413\n",
      "Data columns (total 9 columns):\n",
      " #   Column                                    Non-Null Count  Dtype  \n",
      "---  ------                                    --------------  -----  \n",
      " 0   Transaction date                          414 non-null    float64\n",
      " 1   House Age                                 414 non-null    float64\n",
      " 2   Distance from nearest Metro station (km)  414 non-null    float64\n",
      " 3   Number of convenience stores              414 non-null    int64  \n",
      " 4   latitude                                  414 non-null    float64\n",
      " 5   longitude                                 414 non-null    float64\n",
      " 6   Number of bedrooms                        414 non-null    int64  \n",
      " 7   House size (sqft)                         414 non-null    int64  \n",
      " 8   House price of unit area                  414 non-null    float64\n",
      "dtypes: float64(6), int64(3)\n",
      "memory usage: 29.2 KB\n"
     ]
    }
   ],
   "source": [
    "house_df.info()"
   ]
  },
  {
   "cell_type": "code",
   "execution_count": 17,
   "id": "2f60c511",
   "metadata": {},
   "outputs": [
    {
     "data": {
      "text/plain": [
       "<seaborn.axisgrid.PairGrid at 0x25d102ae850>"
      ]
     },
     "execution_count": 17,
     "metadata": {},
     "output_type": "execute_result"
    },
    {
     "data": {
      "image/png": "[encoded data removed]",
      "text/plain": [
       "<Figure size 180x180 with 1 Axes>"
      ]
     },
     "metadata": {
      "needs_background": "light"
     },
     "output_type": "display_data"
    }
   ],
   "source": [
    "sns.pairplot(data=house_df,x_vars=[\"Transaction date\"],y_vars=[\"House price of unit area\"])"
   ]
  },
  {
   "cell_type": "code",
   "execution_count": 10,
   "id": "9e9014fc",
   "metadata": {},
   "outputs": [
    {
     "data": {
      "text/plain": [
       "<seaborn.axisgrid.PairGrid at 0x25d0f8d6b20>"
      ]
     },
     "execution_count": 10,
     "metadata": {},
     "output_type": "execute_result"
    },
    {
     "data": {
      "image/png": "[encoded data removed]",
      "text/plain": [
       "<Figure size 180x180 with 1 Axes>"
      ]
     },
     "metadata": {
      "needs_background": "light"
     },
     "output_type": "display_data"
    }
   ],
   "source": [
    "sns.pairplot(data=house_df,x_vars=[\"House Age\"],y_vars=[\"House price of unit area\"])"
   ]
  },
  {
   "cell_type": "code",
   "execution_count": 11,
   "id": "dbc2a001",
   "metadata": {},
   "outputs": [
    {
     "data": {
      "text/plain": [
       "<seaborn.axisgrid.PairGrid at 0x25d100f7280>"
      ]
     },
     "execution_count": 11,
     "metadata": {},
     "output_type": "execute_result"
    },
    {
     "data": {
      "image/png": "[encoded data removed]",
      "text/plain": [
       "<Figure size 180x180 with 1 Axes>"
      ]
     },
     "metadata": {
      "needs_background": "light"
     },
     "output_type": "display_data"
    }
   ],
   "source": [
    "sns.pairplot(data=house_df,x_vars=[\"Distance from nearest Metro station (km)\"],y_vars=[\"House price of unit area\"])"
   ]
  },
  {
   "cell_type": "code",
   "execution_count": 12,
   "id": "8c9e9e11",
   "metadata": {},
   "outputs": [
    {
     "data": {
      "text/plain": [
       "<seaborn.axisgrid.PairGrid at 0x25d101327f0>"
      ]
     },
     "execution_count": 12,
     "metadata": {},
     "output_type": "execute_result"
    },
    {
     "data": {
      "image/png": "[encoded data removed]",
      "text/plain": [
       "<Figure size 180x180 with 1 Axes>"
      ]
     },
     "metadata": {
      "needs_background": "light"
     },
     "output_type": "display_data"
    }
   ],
   "source": [
    "sns.pairplot(data=house_df,x_vars=[\"Number of convenience stores\"],y_vars=[\"House price of unit area\"])"
   ]
  },
  {
   "cell_type": "code",
   "execution_count": 13,
   "id": "ed2c2d92",
   "metadata": {},
   "outputs": [
    {
     "data": {
      "text/plain": [
       "<seaborn.axisgrid.PairGrid at 0x25d101864c0>"
      ]
     },
     "execution_count": 13,
     "metadata": {},
     "output_type": "execute_result"
    },
    {
     "data": {
      "image/png": "[encoded data removed]",
      "text/plain": [
       "<Figure size 180x180 with 1 Axes>"
      ]
     },
     "metadata": {
      "needs_background": "light"
     },
     "output_type": "display_data"
    }
   ],
   "source": [
    "sns.pairplot(data=house_df,x_vars=[\"latitude\"],y_vars=[\"House price of unit area\"])"
   ]
  },
  {
   "cell_type": "code",
   "execution_count": 14,
   "id": "6a8faa6d",
   "metadata": {},
   "outputs": [
    {
     "data": {
      "text/plain": [
       "<seaborn.axisgrid.PairGrid at 0x25d101d4be0>"
      ]
     },
     "execution_count": 14,
     "metadata": {},
     "output_type": "execute_result"
    },
    {
     "data": {
      "image/png": "[encoded data removed]",
      "text/plain": [
       "<Figure size 180x180 with 1 Axes>"
      ]
     },
     "metadata": {
      "needs_background": "light"
     },
     "output_type": "display_data"
    }
   ],
   "source": [
    "sns.pairplot(data=house_df,x_vars=[\"longitude\"],y_vars=[\"House price of unit area\"])"
   ]
  },
  {
   "cell_type": "code",
   "execution_count": 15,
   "id": "7d66f347",
   "metadata": {},
   "outputs": [
    {
     "data": {
      "text/plain": [
       "<seaborn.axisgrid.PairGrid at 0x25d102263d0>"
      ]
     },
     "execution_count": 15,
     "metadata": {},
     "output_type": "execute_result"
    },
    {
     "data": {
      "image/png": "[encoded data removed]",
      "text/plain": [
       "<Figure size 180x180 with 1 Axes>"
      ]
     },
     "metadata": {
      "needs_background": "light"
     },
     "output_type": "display_data"
    }
   ],
   "source": [
    "sns.pairplot(data=house_df,x_vars=[\"Number of bedrooms\"],y_vars=[\"House price of unit area\"])"
   ]
  },
  {
   "cell_type": "code",
   "execution_count": 16,
   "id": "07a25122",
   "metadata": {},
   "outputs": [
    {
     "data": {
      "text/plain": [
       "<seaborn.axisgrid.PairGrid at 0x25d10277220>"
      ]
     },
     "execution_count": 16,
     "metadata": {},
     "output_type": "execute_result"
    },
    {
     "data": {
      "image/png": "[encoded data removed]",
      "text/plain": [
       "<Figure size 180x180 with 1 Axes>"
      ]
     },
     "metadata": {
      "needs_background": "light"
     },
     "output_type": "display_data"
    }
   ],
   "source": [
    "sns.pairplot(data=house_df,x_vars=[\"House size (sqft)\"],y_vars=[\"House price of unit area\"])"
   ]
  },
  {
   "cell_type": "code",
   "execution_count": 18,
   "id": "c68d3423",
   "metadata": {},
   "outputs": [
    {
     "data": {
      "image/png": "[encoded data removed]",
      "text/plain": [
       "<Figure size 1800x1440 with 2 Axes>"
      ]
     },
     "metadata": {
      "needs_background": "light"
     },
     "output_type": "display_data"
    }
   ],
   "source": [
    "plt.figure(figsize = (25,20))\n",
    "sns.heatmap(house_df.corr(),annot=True)\n",
    "plt.show()"
   ]
  },
  {
   "cell_type": "code",
   "execution_count": 19,
   "id": "15355ee3",
   "metadata": {},
   "outputs": [],
   "source": [
    "xtrain, xtest = train_test_split(house_df, train_size = 0.70, test_size = 0.30, random_state = 0)"
   ]
  },
  {
   "cell_type": "code",
   "execution_count": 23,
   "id": "65b39b0f",
   "metadata": {},
   "outputs": [],
   "source": [
    "from sklearn.preprocessing import MinMaxScaler\n",
    "scaler = MinMaxScaler()\n",
    "num_vars = [\"Transaction date\",\"House Age\",\"Distance from nearest Metro station (km)\",\"Number of convenience stores\",\"latitude\",\"longitude\",\"Number of bedrooms\",\"House size (sqft)\",\"House price of unit area\"]\n",
    "\n",
    "xtrain[num_vars] = scaler.fit_transform(xtrain[num_vars])"
   ]
  },
  {
   "cell_type": "code",
   "execution_count": 24,
   "id": "2e6fc17b",
   "metadata": {},
   "outputs": [
    {
     "data": {
      "text/html": [
       "<div>\n",
       "<style scoped>\n",
       "    .dataframe tbody tr th:only-of-type {\n",
       "        vertical-align: middle;\n",
       "    }\n",
       "\n",
       "    .dataframe tbody tr th {\n",
       "        vertical-align: top;\n",
       "    }\n",
       "\n",
       "    .dataframe thead th {\n",
       "        text-align: right;\n",
       "    }\n",
       "</style>\n",
       "<table border=\"1\" class=\"dataframe\">\n",
       "  <thead>\n",
       "    <tr style=\"text-align: right;\">\n",
       "      <th></th>\n",
       "      <th>Transaction date</th>\n",
       "      <th>House Age</th>\n",
       "      <th>Distance from nearest Metro station (km)</th>\n",
       "      <th>Number of convenience stores</th>\n",
       "      <th>latitude</th>\n",
       "      <th>longitude</th>\n",
       "      <th>Number of bedrooms</th>\n",
       "      <th>House size (sqft)</th>\n",
       "      <th>House price of unit area</th>\n",
       "    </tr>\n",
       "  </thead>\n",
       "  <tbody>\n",
       "    <tr>\n",
       "      <th>294</th>\n",
       "      <td>0.909389</td>\n",
       "      <td>0.602740</td>\n",
       "      <td>0.048285</td>\n",
       "      <td>0.6</td>\n",
       "      <td>0.575982</td>\n",
       "      <td>0.731831</td>\n",
       "      <td>1.0</td>\n",
       "      <td>0.846715</td>\n",
       "      <td>0.253057</td>\n",
       "    </tr>\n",
       "    <tr>\n",
       "      <th>96</th>\n",
       "      <td>0.818777</td>\n",
       "      <td>0.146119</td>\n",
       "      <td>0.010375</td>\n",
       "      <td>0.9</td>\n",
       "      <td>0.512118</td>\n",
       "      <td>0.750162</td>\n",
       "      <td>1.0</td>\n",
       "      <td>0.689781</td>\n",
       "      <td>0.454374</td>\n",
       "    </tr>\n",
       "    <tr>\n",
       "      <th>377</th>\n",
       "      <td>0.727074</td>\n",
       "      <td>0.089041</td>\n",
       "      <td>0.004065</td>\n",
       "      <td>0.8</td>\n",
       "      <td>0.318589</td>\n",
       "      <td>0.690425</td>\n",
       "      <td>1.0</td>\n",
       "      <td>0.842153</td>\n",
       "      <td>0.428975</td>\n",
       "    </tr>\n",
       "    <tr>\n",
       "      <th>89</th>\n",
       "      <td>0.909389</td>\n",
       "      <td>0.525114</td>\n",
       "      <td>0.607081</td>\n",
       "      <td>0.0</td>\n",
       "      <td>0.190984</td>\n",
       "      <td>0.311624</td>\n",
       "      <td>0.0</td>\n",
       "      <td>0.062956</td>\n",
       "      <td>0.132643</td>\n",
       "    </tr>\n",
       "    <tr>\n",
       "      <th>233</th>\n",
       "      <td>0.727074</td>\n",
       "      <td>0.906393</td>\n",
       "      <td>0.047951</td>\n",
       "      <td>0.9</td>\n",
       "      <td>0.582768</td>\n",
       "      <td>0.709403</td>\n",
       "      <td>1.0</td>\n",
       "      <td>0.522810</td>\n",
       "      <td>0.199436</td>\n",
       "    </tr>\n",
       "  </tbody>\n",
       "</table>\n",
       "</div>"
      ],
      "text/plain": [
       "     Transaction date  House Age  Distance from nearest Metro station (km)  \\\n",
       "294          0.909389   0.602740                                  0.048285   \n",
       "96           0.818777   0.146119                                  0.010375   \n",
       "377          0.727074   0.089041                                  0.004065   \n",
       "89           0.909389   0.525114                                  0.607081   \n",
       "233          0.727074   0.906393                                  0.047951   \n",
       "\n",
       "     Number of convenience stores  latitude  longitude  Number of bedrooms  \\\n",
       "294                           0.6  0.575982   0.731831                 1.0   \n",
       "96                            0.9  0.512118   0.750162                 1.0   \n",
       "377                           0.8  0.318589   0.690425                 1.0   \n",
       "89                            0.0  0.190984   0.311624                 0.0   \n",
       "233                           0.9  0.582768   0.709403                 1.0   \n",
       "\n",
       "     House size (sqft)  House price of unit area  \n",
       "294           0.846715                  0.253057  \n",
       "96            0.689781                  0.454374  \n",
       "377           0.842153                  0.428975  \n",
       "89            0.062956                  0.132643  \n",
       "233           0.522810                  0.199436  "
      ]
     },
     "execution_count": 24,
     "metadata": {},
     "output_type": "execute_result"
    }
   ],
   "source": [
    "xtrain.head()"
   ]
  },
  {
   "cell_type": "code",
   "execution_count": 26,
   "id": "2bbfeba6",
   "metadata": {},
   "outputs": [],
   "source": [
    "from sklearn.preprocessing import MinMaxScaler\n",
    "scaler = MinMaxScaler()\n",
    "num_vars = [\"Transaction date\",\"House Age\",\"Distance from nearest Metro station (km)\",\"Number of convenience stores\",\"latitude\",\"longitude\",\"Number of bedrooms\",\"House size (sqft)\",\"House price of unit area\"]\n",
    "\n",
    "xtest[num_vars] = scaler.fit_transform(xtest[num_vars])"
   ]
  },
  {
   "cell_type": "code",
   "execution_count": 27,
   "id": "c27ea732",
   "metadata": {},
   "outputs": [
    {
     "data": {
      "text/html": [
       "<div>\n",
       "<style scoped>\n",
       "    .dataframe tbody tr th:only-of-type {\n",
       "        vertical-align: middle;\n",
       "    }\n",
       "\n",
       "    .dataframe tbody tr th {\n",
       "        vertical-align: top;\n",
       "    }\n",
       "\n",
       "    .dataframe thead th {\n",
       "        text-align: right;\n",
       "    }\n",
       "</style>\n",
       "<table border=\"1\" class=\"dataframe\">\n",
       "  <thead>\n",
       "    <tr style=\"text-align: right;\">\n",
       "      <th></th>\n",
       "      <th>Transaction date</th>\n",
       "      <th>House Age</th>\n",
       "      <th>Distance from nearest Metro station (km)</th>\n",
       "      <th>Number of convenience stores</th>\n",
       "      <th>latitude</th>\n",
       "      <th>longitude</th>\n",
       "      <th>Number of bedrooms</th>\n",
       "      <th>House size (sqft)</th>\n",
       "      <th>House price of unit area</th>\n",
       "    </tr>\n",
       "  </thead>\n",
       "  <tbody>\n",
       "    <tr>\n",
       "      <th>356</th>\n",
       "      <td>0.181223</td>\n",
       "      <td>0.256858</td>\n",
       "      <td>0.024797</td>\n",
       "      <td>0.1</td>\n",
       "      <td>0.652270</td>\n",
       "      <td>0.601800</td>\n",
       "      <td>0.0</td>\n",
       "      <td>0.010120</td>\n",
       "      <td>0.533239</td>\n",
       "    </tr>\n",
       "    <tr>\n",
       "      <th>170</th>\n",
       "      <td>0.727074</td>\n",
       "      <td>0.598504</td>\n",
       "      <td>0.715431</td>\n",
       "      <td>0.0</td>\n",
       "      <td>0.117177</td>\n",
       "      <td>0.231808</td>\n",
       "      <td>0.5</td>\n",
       "      <td>0.965041</td>\n",
       "      <td>0.096181</td>\n",
       "    </tr>\n",
       "    <tr>\n",
       "      <th>224</th>\n",
       "      <td>0.727074</td>\n",
       "      <td>0.860349</td>\n",
       "      <td>0.042957</td>\n",
       "      <td>0.6</td>\n",
       "      <td>0.731654</td>\n",
       "      <td>0.730326</td>\n",
       "      <td>0.5</td>\n",
       "      <td>0.429623</td>\n",
       "      <td>0.543140</td>\n",
       "    </tr>\n",
       "    <tr>\n",
       "      <th>331</th>\n",
       "      <td>0.727074</td>\n",
       "      <td>0.638404</td>\n",
       "      <td>0.714151</td>\n",
       "      <td>0.0</td>\n",
       "      <td>0.134173</td>\n",
       "      <td>0.227308</td>\n",
       "      <td>0.0</td>\n",
       "      <td>0.011960</td>\n",
       "      <td>0.113154</td>\n",
       "    </tr>\n",
       "    <tr>\n",
       "      <th>306</th>\n",
       "      <td>0.909389</td>\n",
       "      <td>0.359102</td>\n",
       "      <td>0.018162</td>\n",
       "      <td>0.1</td>\n",
       "      <td>0.642671</td>\n",
       "      <td>0.599605</td>\n",
       "      <td>1.0</td>\n",
       "      <td>0.820607</td>\n",
       "      <td>0.602546</td>\n",
       "    </tr>\n",
       "  </tbody>\n",
       "</table>\n",
       "</div>"
      ],
      "text/plain": [
       "     Transaction date  House Age  Distance from nearest Metro station (km)  \\\n",
       "356          0.181223   0.256858                                  0.024797   \n",
       "170          0.727074   0.598504                                  0.715431   \n",
       "224          0.727074   0.860349                                  0.042957   \n",
       "331          0.727074   0.638404                                  0.714151   \n",
       "306          0.909389   0.359102                                  0.018162   \n",
       "\n",
       "     Number of convenience stores  latitude  longitude  Number of bedrooms  \\\n",
       "356                           0.1  0.652270   0.601800                 0.0   \n",
       "170                           0.0  0.117177   0.231808                 0.5   \n",
       "224                           0.6  0.731654   0.730326                 0.5   \n",
       "331                           0.0  0.134173   0.227308                 0.0   \n",
       "306                           0.1  0.642671   0.599605                 1.0   \n",
       "\n",
       "     House size (sqft)  House price of unit area  \n",
       "356           0.010120                  0.533239  \n",
       "170           0.965041                  0.096181  \n",
       "224           0.429623                  0.543140  \n",
       "331           0.011960                  0.113154  \n",
       "306           0.820607                  0.602546  "
      ]
     },
     "execution_count": 27,
     "metadata": {},
     "output_type": "execute_result"
    }
   ],
   "source": [
    "xtest.head()"
   ]
  },
  {
   "cell_type": "code",
   "execution_count": null,
   "id": "26dbf8ad",
   "metadata": {},
   "outputs": [],
   "source": [
    "##BUILDING A LINEAR MODEL\n",
    "##Dividing into X and Y sets for the model building"
   ]
  },
  {
   "cell_type": "code",
   "execution_count": 29,
   "id": "251c0f6f",
   "metadata": {},
   "outputs": [],
   "source": [
    "X=xtrain.drop([\"House price of unit area\"],axis=1)\n",
    "y=xtrain[\"House price of unit area\"]"
   ]
  },
  {
   "cell_type": "code",
   "execution_count": 30,
   "id": "29a6fe50",
   "metadata": {},
   "outputs": [],
   "source": [
    "xtrain,xtest,ytrain,ytest=train_test_split(X,y,test_size=0.3,random_state=0)"
   ]
  },
  {
   "cell_type": "code",
   "execution_count": 31,
   "id": "1b53bbcf",
   "metadata": {},
   "outputs": [],
   "source": [
    "from sklearn.feature_selection import RFE\n",
    "from sklearn.linear_model import LinearRegression"
   ]
  },
  {
   "cell_type": "code",
   "execution_count": 32,
   "id": "3000e81c",
   "metadata": {},
   "outputs": [],
   "source": [
    "xtrain=sm.add_constant(xtrain)\n",
    "model1=sm.OLS(ytrain,xtrain)\n",
    "result1=model1.fit()"
   ]
  },
  {
   "cell_type": "code",
   "execution_count": 33,
   "id": "fe508893",
   "metadata": {},
   "outputs": [
    {
     "data": {
      "text/html": [
       "<table class=\"simpletable\">\n",
       "<caption>OLS Regression Results</caption>\n",
       "<tr>\n",
       "  <th>Dep. Variable:</th>    <td>House price of unit area</td> <th>  R-squared:         </th> <td>   0.550</td>\n",
       "</tr>\n",
       "<tr>\n",
       "  <th>Model:</th>                       <td>OLS</td>           <th>  Adj. R-squared:    </th> <td>   0.531</td>\n",
       "</tr>\n",
       "<tr>\n",
       "  <th>Method:</th>                 <td>Least Squares</td>      <th>  F-statistic:       </th> <td>   29.49</td>\n",
       "</tr>\n",
       "<tr>\n",
       "  <th>Date:</th>                 <td>Wed, 23 Nov 2022</td>     <th>  Prob (F-statistic):</th> <td>9.24e-30</td>\n",
       "</tr>\n",
       "<tr>\n",
       "  <th>Time:</th>                     <td>18:03:53</td>         <th>  Log-Likelihood:    </th> <td>  200.38</td>\n",
       "</tr>\n",
       "<tr>\n",
       "  <th>No. Observations:</th>          <td>   202</td>          <th>  AIC:               </th> <td>  -382.8</td>\n",
       "</tr>\n",
       "<tr>\n",
       "  <th>Df Residuals:</th>              <td>   193</td>          <th>  BIC:               </th> <td>  -353.0</td>\n",
       "</tr>\n",
       "<tr>\n",
       "  <th>Df Model:</th>                  <td>     8</td>          <th>                     </th>     <td> </td>   \n",
       "</tr>\n",
       "<tr>\n",
       "  <th>Covariance Type:</th>          <td>nonrobust</td>        <th>                     </th>     <td> </td>   \n",
       "</tr>\n",
       "</table>\n",
       "<table class=\"simpletable\">\n",
       "<tr>\n",
       "                      <td></td>                        <th>coef</th>     <th>std err</th>      <th>t</th>      <th>P>|t|</th>  <th>[0.025</th>    <th>0.975]</th>  \n",
       "</tr>\n",
       "<tr>\n",
       "  <th>const</th>                                    <td>    0.2745</td> <td>    0.062</td> <td>    4.435</td> <td> 0.000</td> <td>    0.152</td> <td>    0.397</td>\n",
       "</tr>\n",
       "<tr>\n",
       "  <th>Transaction date</th>                         <td>    0.0430</td> <td>    0.021</td> <td>    2.009</td> <td> 0.046</td> <td>    0.001</td> <td>    0.085</td>\n",
       "</tr>\n",
       "<tr>\n",
       "  <th>House Age</th>                                <td>   -0.1105</td> <td>    0.025</td> <td>   -4.441</td> <td> 0.000</td> <td>   -0.160</td> <td>   -0.061</td>\n",
       "</tr>\n",
       "<tr>\n",
       "  <th>Distance from nearest Metro station (km)</th> <td>   -0.3249</td> <td>    0.065</td> <td>   -5.012</td> <td> 0.000</td> <td>   -0.453</td> <td>   -0.197</td>\n",
       "</tr>\n",
       "<tr>\n",
       "  <th>Number of convenience stores</th>             <td>    0.0780</td> <td>    0.029</td> <td>    2.706</td> <td> 0.007</td> <td>    0.021</td> <td>    0.135</td>\n",
       "</tr>\n",
       "<tr>\n",
       "  <th>latitude</th>                                 <td>    0.1685</td> <td>    0.049</td> <td>    3.404</td> <td> 0.001</td> <td>    0.071</td> <td>    0.266</td>\n",
       "</tr>\n",
       "<tr>\n",
       "  <th>longitude</th>                                <td>   -0.0681</td> <td>    0.065</td> <td>   -1.041</td> <td> 0.299</td> <td>   -0.197</td> <td>    0.061</td>\n",
       "</tr>\n",
       "<tr>\n",
       "  <th>Number of bedrooms</th>                       <td>   -0.0150</td> <td>    0.024</td> <td>   -0.621</td> <td> 0.536</td> <td>   -0.063</td> <td>    0.033</td>\n",
       "</tr>\n",
       "<tr>\n",
       "  <th>House size (sqft)</th>                        <td>    0.0148</td> <td>    0.031</td> <td>    0.470</td> <td> 0.639</td> <td>   -0.047</td> <td>    0.077</td>\n",
       "</tr>\n",
       "</table>\n",
       "<table class=\"simpletable\">\n",
       "<tr>\n",
       "  <th>Omnibus:</th>       <td>147.828</td> <th>  Durbin-Watson:     </th> <td>   1.559</td>\n",
       "</tr>\n",
       "<tr>\n",
       "  <th>Prob(Omnibus):</th> <td> 0.000</td>  <th>  Jarque-Bera (JB):  </th> <td>2147.668</td>\n",
       "</tr>\n",
       "<tr>\n",
       "  <th>Skew:</th>          <td> 2.589</td>  <th>  Prob(JB):          </th> <td>    0.00</td>\n",
       "</tr>\n",
       "<tr>\n",
       "  <th>Kurtosis:</th>      <td>18.111</td>  <th>  Cond. No.          </th> <td>    27.3</td>\n",
       "</tr>\n",
       "</table><br/><br/>Notes:<br/>[1] Standard Errors assume that the covariance matrix of the errors is correctly specified."
      ],
      "text/plain": [
       "<class 'statsmodels.iolib.summary.Summary'>\n",
       "\"\"\"\n",
       "                               OLS Regression Results                               \n",
       "====================================================================================\n",
       "Dep. Variable:     House price of unit area   R-squared:                       0.550\n",
       "Model:                                  OLS   Adj. R-squared:                  0.531\n",
       "Method:                       Least Squares   F-statistic:                     29.49\n",
       "Date:                      Wed, 23 Nov 2022   Prob (F-statistic):           9.24e-30\n",
       "Time:                              18:03:53   Log-Likelihood:                 200.38\n",
       "No. Observations:                       202   AIC:                            -382.8\n",
       "Df Residuals:                           193   BIC:                            -353.0\n",
       "Df Model:                                 8                                         \n",
       "Covariance Type:                  nonrobust                                         \n",
       "============================================================================================================\n",
       "                                               coef    std err          t      P>|t|      [0.025      0.975]\n",
       "------------------------------------------------------------------------------------------------------------\n",
       "const                                        0.2745      0.062      4.435      0.000       0.152       0.397\n",
       "Transaction date                             0.0430      0.021      2.009      0.046       0.001       0.085\n",
       "House Age                                   -0.1105      0.025     -4.441      0.000      -0.160      -0.061\n",
       "Distance from nearest Metro station (km)    -0.3249      0.065     -5.012      0.000      -0.453      -0.197\n",
       "Number of convenience stores                 0.0780      0.029      2.706      0.007       0.021       0.135\n",
       "latitude                                     0.1685      0.049      3.404      0.001       0.071       0.266\n",
       "longitude                                   -0.0681      0.065     -1.041      0.299      -0.197       0.061\n",
       "Number of bedrooms                          -0.0150      0.024     -0.621      0.536      -0.063       0.033\n",
       "House size (sqft)                            0.0148      0.031      0.470      0.639      -0.047       0.077\n",
       "==============================================================================\n",
       "Omnibus:                      147.828   Durbin-Watson:                   1.559\n",
       "Prob(Omnibus):                  0.000   Jarque-Bera (JB):             2147.668\n",
       "Skew:                           2.589   Prob(JB):                         0.00\n",
       "Kurtosis:                      18.111   Cond. No.                         27.3\n",
       "==============================================================================\n",
       "\n",
       "Notes:\n",
       "[1] Standard Errors assume that the covariance matrix of the errors is correctly specified.\n",
       "\"\"\""
      ]
     },
     "execution_count": 33,
     "metadata": {},
     "output_type": "execute_result"
    }
   ],
   "source": [
    "result1.summary()"
   ]
  },
  {
   "cell_type": "code",
   "execution_count": 34,
   "id": "6d0c8aa0",
   "metadata": {},
   "outputs": [
    {
     "data": {
      "text/html": [
       "<div>\n",
       "<style scoped>\n",
       "    .dataframe tbody tr th:only-of-type {\n",
       "        vertical-align: middle;\n",
       "    }\n",
       "\n",
       "    .dataframe tbody tr th {\n",
       "        vertical-align: top;\n",
       "    }\n",
       "\n",
       "    .dataframe thead th {\n",
       "        text-align: right;\n",
       "    }\n",
       "</style>\n",
       "<table border=\"1\" class=\"dataframe\">\n",
       "  <thead>\n",
       "    <tr style=\"text-align: right;\">\n",
       "      <th></th>\n",
       "      <th>Feature</th>\n",
       "      <th>VIF</th>\n",
       "    </tr>\n",
       "  </thead>\n",
       "  <tbody>\n",
       "    <tr>\n",
       "      <th>0</th>\n",
       "      <td>const</td>\n",
       "      <td>91.822327</td>\n",
       "    </tr>\n",
       "    <tr>\n",
       "      <th>1</th>\n",
       "      <td>Transaction date</td>\n",
       "      <td>1.057015</td>\n",
       "    </tr>\n",
       "    <tr>\n",
       "      <th>2</th>\n",
       "      <td>House Age</td>\n",
       "      <td>1.036736</td>\n",
       "    </tr>\n",
       "    <tr>\n",
       "      <th>3</th>\n",
       "      <td>Distance from nearest Metro station (km)</td>\n",
       "      <td>4.440273</td>\n",
       "    </tr>\n",
       "    <tr>\n",
       "      <th>4</th>\n",
       "      <td>Number of convenience stores</td>\n",
       "      <td>1.709651</td>\n",
       "    </tr>\n",
       "    <tr>\n",
       "      <th>5</th>\n",
       "      <td>latitude</td>\n",
       "      <td>1.570683</td>\n",
       "    </tr>\n",
       "    <tr>\n",
       "      <th>6</th>\n",
       "      <td>longitude</td>\n",
       "      <td>3.021324</td>\n",
       "    </tr>\n",
       "    <tr>\n",
       "      <th>7</th>\n",
       "      <td>Number of bedrooms</td>\n",
       "      <td>2.401503</td>\n",
       "    </tr>\n",
       "    <tr>\n",
       "      <th>8</th>\n",
       "      <td>House size (sqft)</td>\n",
       "      <td>2.433038</td>\n",
       "    </tr>\n",
       "  </tbody>\n",
       "</table>\n",
       "</div>"
      ],
      "text/plain": [
       "                                    Feature        VIF\n",
       "0                                     const  91.822327\n",
       "1                          Transaction date   1.057015\n",
       "2                                 House Age   1.036736\n",
       "3  Distance from nearest Metro station (km)   4.440273\n",
       "4              Number of convenience stores   1.709651\n",
       "5                                  latitude   1.570683\n",
       "6                                 longitude   3.021324\n",
       "7                        Number of bedrooms   2.401503\n",
       "8                         House size (sqft)   2.433038"
      ]
     },
     "execution_count": 34,
     "metadata": {},
     "output_type": "execute_result"
    }
   ],
   "source": [
    "model2=sm.OLS(ytrain,xtrain)\n",
    "result2=model2.fit()\n",
    "result2.summary()"
   ]
  },
  {
   "cell_type": "code",
   "execution_count": null,
   "id": "3029321d",
   "metadata": {},
   "outputs": [],
   "source": []
  },
  {
   "cell_type": "code",
   "execution_count": 35,
   "id": "96df8799",
   "metadata": {},
   "outputs": [],
   "source": [
    "xtrain=xtrain.drop([\"House size (sqft)\"],axis=1)"
   ]
  },
  {
   "cell_type": "code",
   "execution_count": 36,
   "id": "0fec9f3f",
   "metadata": {},
   "outputs": [
    {
     "data": {
      "text/html": [
       "<table class=\"simpletable\">\n",
       "<caption>OLS Regression Results</caption>\n",
       "<tr>\n",
       "  <th>Dep. Variable:</th>    <td>House price of unit area</td> <th>  R-squared:         </th> <td>   0.550</td>\n",
       "</tr>\n",
       "<tr>\n",
       "  <th>Model:</th>                       <td>OLS</td>           <th>  Adj. R-squared:    </th> <td>   0.533</td>\n",
       "</tr>\n",
       "<tr>\n",
       "  <th>Method:</th>                 <td>Least Squares</td>      <th>  F-statistic:       </th> <td>   33.81</td>\n",
       "</tr>\n",
       "<tr>\n",
       "  <th>Date:</th>                 <td>Wed, 23 Nov 2022</td>     <th>  Prob (F-statistic):</th> <td>1.70e-30</td>\n",
       "</tr>\n",
       "<tr>\n",
       "  <th>Time:</th>                     <td>18:08:56</td>         <th>  Log-Likelihood:    </th> <td>  200.27</td>\n",
       "</tr>\n",
       "<tr>\n",
       "  <th>No. Observations:</th>          <td>   202</td>          <th>  AIC:               </th> <td>  -384.5</td>\n",
       "</tr>\n",
       "<tr>\n",
       "  <th>Df Residuals:</th>              <td>   194</td>          <th>  BIC:               </th> <td>  -358.1</td>\n",
       "</tr>\n",
       "<tr>\n",
       "  <th>Df Model:</th>                  <td>     7</td>          <th>                     </th>     <td> </td>   \n",
       "</tr>\n",
       "<tr>\n",
       "  <th>Covariance Type:</th>          <td>nonrobust</td>        <th>                     </th>     <td> </td>   \n",
       "</tr>\n",
       "</table>\n",
       "<table class=\"simpletable\">\n",
       "<tr>\n",
       "                      <td></td>                        <th>coef</th>     <th>std err</th>      <th>t</th>      <th>P>|t|</th>  <th>[0.025</th>    <th>0.975]</th>  \n",
       "</tr>\n",
       "<tr>\n",
       "  <th>const</th>                                    <td>    0.2747</td> <td>    0.062</td> <td>    4.448</td> <td> 0.000</td> <td>    0.153</td> <td>    0.397</td>\n",
       "</tr>\n",
       "<tr>\n",
       "  <th>Transaction date</th>                         <td>    0.0433</td> <td>    0.021</td> <td>    2.024</td> <td> 0.044</td> <td>    0.001</td> <td>    0.085</td>\n",
       "</tr>\n",
       "<tr>\n",
       "  <th>House Age</th>                                <td>   -0.1117</td> <td>    0.025</td> <td>   -4.524</td> <td> 0.000</td> <td>   -0.160</td> <td>   -0.063</td>\n",
       "</tr>\n",
       "<tr>\n",
       "  <th>Distance from nearest Metro station (km)</th> <td>   -0.3227</td> <td>    0.065</td> <td>   -5.001</td> <td> 0.000</td> <td>   -0.450</td> <td>   -0.195</td>\n",
       "</tr>\n",
       "<tr>\n",
       "  <th>Number of convenience stores</th>             <td>    0.0794</td> <td>    0.029</td> <td>    2.772</td> <td> 0.006</td> <td>    0.023</td> <td>    0.136</td>\n",
       "</tr>\n",
       "<tr>\n",
       "  <th>latitude</th>                                 <td>    0.1701</td> <td>    0.049</td> <td>    3.451</td> <td> 0.001</td> <td>    0.073</td> <td>    0.267</td>\n",
       "</tr>\n",
       "<tr>\n",
       "  <th>longitude</th>                                <td>   -0.0658</td> <td>    0.065</td> <td>   -1.010</td> <td> 0.314</td> <td>   -0.194</td> <td>    0.063</td>\n",
       "</tr>\n",
       "<tr>\n",
       "  <th>Number of bedrooms</th>                       <td>   -0.0064</td> <td>    0.016</td> <td>   -0.406</td> <td> 0.686</td> <td>   -0.037</td> <td>    0.025</td>\n",
       "</tr>\n",
       "</table>\n",
       "<table class=\"simpletable\">\n",
       "<tr>\n",
       "  <th>Omnibus:</th>       <td>150.384</td> <th>  Durbin-Watson:     </th> <td>   1.555</td>\n",
       "</tr>\n",
       "<tr>\n",
       "  <th>Prob(Omnibus):</th> <td> 0.000</td>  <th>  Jarque-Bera (JB):  </th> <td>2283.707</td>\n",
       "</tr>\n",
       "<tr>\n",
       "  <th>Skew:</th>          <td> 2.636</td>  <th>  Prob(JB):          </th> <td>    0.00</td>\n",
       "</tr>\n",
       "<tr>\n",
       "  <th>Kurtosis:</th>      <td>18.606</td>  <th>  Cond. No.          </th> <td>    25.9</td>\n",
       "</tr>\n",
       "</table><br/><br/>Notes:<br/>[1] Standard Errors assume that the covariance matrix of the errors is correctly specified."
      ],
      "text/plain": [
       "<class 'statsmodels.iolib.summary.Summary'>\n",
       "\"\"\"\n",
       "                               OLS Regression Results                               \n",
       "====================================================================================\n",
       "Dep. Variable:     House price of unit area   R-squared:                       0.550\n",
       "Model:                                  OLS   Adj. R-squared:                  0.533\n",
       "Method:                       Least Squares   F-statistic:                     33.81\n",
       "Date:                      Wed, 23 Nov 2022   Prob (F-statistic):           1.70e-30\n",
       "Time:                              18:08:56   Log-Likelihood:                 200.27\n",
       "No. Observations:                       202   AIC:                            -384.5\n",
       "Df Residuals:                           194   BIC:                            -358.1\n",
       "Df Model:                                 7                                         \n",
       "Covariance Type:                  nonrobust                                         \n",
       "============================================================================================================\n",
       "                                               coef    std err          t      P>|t|      [0.025      0.975]\n",
       "------------------------------------------------------------------------------------------------------------\n",
       "const                                        0.2747      0.062      4.448      0.000       0.153       0.397\n",
       "Transaction date                             0.0433      0.021      2.024      0.044       0.001       0.085\n",
       "House Age                                   -0.1117      0.025     -4.524      0.000      -0.160      -0.063\n",
       "Distance from nearest Metro station (km)    -0.3227      0.065     -5.001      0.000      -0.450      -0.195\n",
       "Number of convenience stores                 0.0794      0.029      2.772      0.006       0.023       0.136\n",
       "latitude                                     0.1701      0.049      3.451      0.001       0.073       0.267\n",
       "longitude                                   -0.0658      0.065     -1.010      0.314      -0.194       0.063\n",
       "Number of bedrooms                          -0.0064      0.016     -0.406      0.686      -0.037       0.025\n",
       "==============================================================================\n",
       "Omnibus:                      150.384   Durbin-Watson:                   1.555\n",
       "Prob(Omnibus):                  0.000   Jarque-Bera (JB):             2283.707\n",
       "Skew:                           2.636   Prob(JB):                         0.00\n",
       "Kurtosis:                      18.606   Cond. No.                         25.9\n",
       "==============================================================================\n",
       "\n",
       "Notes:\n",
       "[1] Standard Errors assume that the covariance matrix of the errors is correctly specified.\n",
       "\"\"\""
      ]
     },
     "execution_count": 36,
     "metadata": {},
     "output_type": "execute_result"
    }
   ],
   "source": [
    "model2=sm.OLS(ytrain,xtrain)\n",
    "result2=model2.fit()\n",
    "result2.summary()"
   ]
  },
  {
   "cell_type": "code",
   "execution_count": 37,
   "id": "862a0c21",
   "metadata": {},
   "outputs": [
    {
     "data": {
      "text/html": [
       "<div>\n",
       "<style scoped>\n",
       "    .dataframe tbody tr th:only-of-type {\n",
       "        vertical-align: middle;\n",
       "    }\n",
       "\n",
       "    .dataframe tbody tr th {\n",
       "        vertical-align: top;\n",
       "    }\n",
       "\n",
       "    .dataframe thead th {\n",
       "        text-align: right;\n",
       "    }\n",
       "</style>\n",
       "<table border=\"1\" class=\"dataframe\">\n",
       "  <thead>\n",
       "    <tr style=\"text-align: right;\">\n",
       "      <th></th>\n",
       "      <th>Feature</th>\n",
       "      <th>VIF</th>\n",
       "    </tr>\n",
       "  </thead>\n",
       "  <tbody>\n",
       "    <tr>\n",
       "      <th>0</th>\n",
       "      <td>const</td>\n",
       "      <td>91.817944</td>\n",
       "    </tr>\n",
       "    <tr>\n",
       "      <th>1</th>\n",
       "      <td>Transaction date</td>\n",
       "      <td>1.056486</td>\n",
       "    </tr>\n",
       "    <tr>\n",
       "      <th>2</th>\n",
       "      <td>House Age</td>\n",
       "      <td>1.025456</td>\n",
       "    </tr>\n",
       "    <tr>\n",
       "      <th>3</th>\n",
       "      <td>Distance from nearest Metro station (km)</td>\n",
       "      <td>4.417135</td>\n",
       "    </tr>\n",
       "    <tr>\n",
       "      <th>4</th>\n",
       "      <td>Number of convenience stores</td>\n",
       "      <td>1.693126</td>\n",
       "    </tr>\n",
       "    <tr>\n",
       "      <th>5</th>\n",
       "      <td>latitude</td>\n",
       "      <td>1.563233</td>\n",
       "    </tr>\n",
       "    <tr>\n",
       "      <th>6</th>\n",
       "      <td>longitude</td>\n",
       "      <td>3.003675</td>\n",
       "    </tr>\n",
       "    <tr>\n",
       "      <th>7</th>\n",
       "      <td>Number of bedrooms</td>\n",
       "      <td>1.020176</td>\n",
       "    </tr>\n",
       "  </tbody>\n",
       "</table>\n",
       "</div>"
      ],
      "text/plain": [
       "                                    Feature        VIF\n",
       "0                                     const  91.817944\n",
       "1                          Transaction date   1.056486\n",
       "2                                 House Age   1.025456\n",
       "3  Distance from nearest Metro station (km)   4.417135\n",
       "4              Number of convenience stores   1.693126\n",
       "5                                  latitude   1.563233\n",
       "6                                 longitude   3.003675\n",
       "7                        Number of bedrooms   1.020176"
      ]
     },
     "execution_count": 37,
     "metadata": {},
     "output_type": "execute_result"
    }
   ],
   "source": [
    "from statsmodels.stats.outliers_influence import variance_inflation_factor\n",
    "\n",
    "vif_data=pd.DataFrame()\n",
    "vif_data[\"Feature\"]=xtrain.columns\n",
    "\n",
    "vif_data[\"VIF\"]=[variance_inflation_factor(xtrain.values,i) for i in range(len(xtrain.columns))]\n",
    "vif_data"
   ]
  },
  {
   "cell_type": "code",
   "execution_count": null,
   "id": "80562991",
   "metadata": {},
   "outputs": [],
   "source": []
  },
  {
   "cell_type": "code",
   "execution_count": 40,
   "id": "46222419",
   "metadata": {},
   "outputs": [
    {
     "ename": "KeyError",
     "evalue": "\"['Number of bedrooms'] not found in axis\"",
     "output_type": "error",
     "traceback": [
      "\u001b[1;31m---------------------------------------------------------------------------\u001b[0m",
      "\u001b[1;31mKeyError\u001b[0m                                  Traceback (most recent call last)",
      "\u001b[1;32m<ipython-input-40-3a44e6d6ec21>\u001b[0m in \u001b[0;36m<module>\u001b[1;34m\u001b[0m\n\u001b[1;32m----> 1\u001b[1;33m \u001b[0mxtrain\u001b[0m\u001b[1;33m=\u001b[0m\u001b[0mxtrain\u001b[0m\u001b[1;33m.\u001b[0m\u001b[0mdrop\u001b[0m\u001b[1;33m(\u001b[0m\u001b[1;33m[\u001b[0m\u001b[1;34m\"Number of bedrooms\"\u001b[0m\u001b[1;33m]\u001b[0m\u001b[1;33m,\u001b[0m\u001b[0maxis\u001b[0m\u001b[1;33m=\u001b[0m\u001b[1;36m1\u001b[0m\u001b[1;33m)\u001b[0m\u001b[1;33m\u001b[0m\u001b[1;33m\u001b[0m\u001b[0m\n\u001b[0m",
      "\u001b[1;32m~\\anaconda3\\lib\\site-packages\\pandas\\core\\frame.py\u001b[0m in \u001b[0;36mdrop\u001b[1;34m(self, labels, axis, index, columns, level, inplace, errors)\u001b[0m\n\u001b[0;32m   4306\u001b[0m                 \u001b[0mweight\u001b[0m  \u001b[1;36m1.0\u001b[0m     \u001b[1;36m0.8\u001b[0m\u001b[1;33m\u001b[0m\u001b[1;33m\u001b[0m\u001b[0m\n\u001b[0;32m   4307\u001b[0m         \"\"\"\n\u001b[1;32m-> 4308\u001b[1;33m         return super().drop(\n\u001b[0m\u001b[0;32m   4309\u001b[0m             \u001b[0mlabels\u001b[0m\u001b[1;33m=\u001b[0m\u001b[0mlabels\u001b[0m\u001b[1;33m,\u001b[0m\u001b[1;33m\u001b[0m\u001b[1;33m\u001b[0m\u001b[0m\n\u001b[0;32m   4310\u001b[0m             \u001b[0maxis\u001b[0m\u001b[1;33m=\u001b[0m\u001b[0maxis\u001b[0m\u001b[1;33m,\u001b[0m\u001b[1;33m\u001b[0m\u001b[1;33m\u001b[0m\u001b[0m\n",
      "\u001b[1;32m~\\anaconda3\\lib\\site-packages\\pandas\\core\\generic.py\u001b[0m in \u001b[0;36mdrop\u001b[1;34m(self, labels, axis, index, columns, level, inplace, errors)\u001b[0m\n\u001b[0;32m   4151\u001b[0m         \u001b[1;32mfor\u001b[0m \u001b[0maxis\u001b[0m\u001b[1;33m,\u001b[0m \u001b[0mlabels\u001b[0m \u001b[1;32min\u001b[0m \u001b[0maxes\u001b[0m\u001b[1;33m.\u001b[0m\u001b[0mitems\u001b[0m\u001b[1;33m(\u001b[0m\u001b[1;33m)\u001b[0m\u001b[1;33m:\u001b[0m\u001b[1;33m\u001b[0m\u001b[1;33m\u001b[0m\u001b[0m\n\u001b[0;32m   4152\u001b[0m             \u001b[1;32mif\u001b[0m \u001b[0mlabels\u001b[0m \u001b[1;32mis\u001b[0m \u001b[1;32mnot\u001b[0m \u001b[1;32mNone\u001b[0m\u001b[1;33m:\u001b[0m\u001b[1;33m\u001b[0m\u001b[1;33m\u001b[0m\u001b[0m\n\u001b[1;32m-> 4153\u001b[1;33m                 \u001b[0mobj\u001b[0m \u001b[1;33m=\u001b[0m \u001b[0mobj\u001b[0m\u001b[1;33m.\u001b[0m\u001b[0m_drop_axis\u001b[0m\u001b[1;33m(\u001b[0m\u001b[0mlabels\u001b[0m\u001b[1;33m,\u001b[0m \u001b[0maxis\u001b[0m\u001b[1;33m,\u001b[0m \u001b[0mlevel\u001b[0m\u001b[1;33m=\u001b[0m\u001b[0mlevel\u001b[0m\u001b[1;33m,\u001b[0m \u001b[0merrors\u001b[0m\u001b[1;33m=\u001b[0m\u001b[0merrors\u001b[0m\u001b[1;33m)\u001b[0m\u001b[1;33m\u001b[0m\u001b[1;33m\u001b[0m\u001b[0m\n\u001b[0m\u001b[0;32m   4154\u001b[0m \u001b[1;33m\u001b[0m\u001b[0m\n\u001b[0;32m   4155\u001b[0m         \u001b[1;32mif\u001b[0m \u001b[0minplace\u001b[0m\u001b[1;33m:\u001b[0m\u001b[1;33m\u001b[0m\u001b[1;33m\u001b[0m\u001b[0m\n",
      "\u001b[1;32m~\\anaconda3\\lib\\site-packages\\pandas\\core\\generic.py\u001b[0m in \u001b[0;36m_drop_axis\u001b[1;34m(self, labels, axis, level, errors)\u001b[0m\n\u001b[0;32m   4186\u001b[0m                 \u001b[0mnew_axis\u001b[0m \u001b[1;33m=\u001b[0m \u001b[0maxis\u001b[0m\u001b[1;33m.\u001b[0m\u001b[0mdrop\u001b[0m\u001b[1;33m(\u001b[0m\u001b[0mlabels\u001b[0m\u001b[1;33m,\u001b[0m \u001b[0mlevel\u001b[0m\u001b[1;33m=\u001b[0m\u001b[0mlevel\u001b[0m\u001b[1;33m,\u001b[0m \u001b[0merrors\u001b[0m\u001b[1;33m=\u001b[0m\u001b[0merrors\u001b[0m\u001b[1;33m)\u001b[0m\u001b[1;33m\u001b[0m\u001b[1;33m\u001b[0m\u001b[0m\n\u001b[0;32m   4187\u001b[0m             \u001b[1;32melse\u001b[0m\u001b[1;33m:\u001b[0m\u001b[1;33m\u001b[0m\u001b[1;33m\u001b[0m\u001b[0m\n\u001b[1;32m-> 4188\u001b[1;33m                 \u001b[0mnew_axis\u001b[0m \u001b[1;33m=\u001b[0m \u001b[0maxis\u001b[0m\u001b[1;33m.\u001b[0m\u001b[0mdrop\u001b[0m\u001b[1;33m(\u001b[0m\u001b[0mlabels\u001b[0m\u001b[1;33m,\u001b[0m \u001b[0merrors\u001b[0m\u001b[1;33m=\u001b[0m\u001b[0merrors\u001b[0m\u001b[1;33m)\u001b[0m\u001b[1;33m\u001b[0m\u001b[1;33m\u001b[0m\u001b[0m\n\u001b[0m\u001b[0;32m   4189\u001b[0m             \u001b[0mresult\u001b[0m \u001b[1;33m=\u001b[0m \u001b[0mself\u001b[0m\u001b[1;33m.\u001b[0m\u001b[0mreindex\u001b[0m\u001b[1;33m(\u001b[0m\u001b[1;33m**\u001b[0m\u001b[1;33m{\u001b[0m\u001b[0maxis_name\u001b[0m\u001b[1;33m:\u001b[0m \u001b[0mnew_axis\u001b[0m\u001b[1;33m}\u001b[0m\u001b[1;33m)\u001b[0m\u001b[1;33m\u001b[0m\u001b[1;33m\u001b[0m\u001b[0m\n\u001b[0;32m   4190\u001b[0m \u001b[1;33m\u001b[0m\u001b[0m\n",
      "\u001b[1;32m~\\anaconda3\\lib\\site-packages\\pandas\\core\\indexes\\base.py\u001b[0m in \u001b[0;36mdrop\u001b[1;34m(self, labels, errors)\u001b[0m\n\u001b[0;32m   5589\u001b[0m         \u001b[1;32mif\u001b[0m \u001b[0mmask\u001b[0m\u001b[1;33m.\u001b[0m\u001b[0many\u001b[0m\u001b[1;33m(\u001b[0m\u001b[1;33m)\u001b[0m\u001b[1;33m:\u001b[0m\u001b[1;33m\u001b[0m\u001b[1;33m\u001b[0m\u001b[0m\n\u001b[0;32m   5590\u001b[0m             \u001b[1;32mif\u001b[0m \u001b[0merrors\u001b[0m \u001b[1;33m!=\u001b[0m \u001b[1;34m\"ignore\"\u001b[0m\u001b[1;33m:\u001b[0m\u001b[1;33m\u001b[0m\u001b[1;33m\u001b[0m\u001b[0m\n\u001b[1;32m-> 5591\u001b[1;33m                 \u001b[1;32mraise\u001b[0m \u001b[0mKeyError\u001b[0m\u001b[1;33m(\u001b[0m\u001b[1;34mf\"{labels[mask]} not found in axis\"\u001b[0m\u001b[1;33m)\u001b[0m\u001b[1;33m\u001b[0m\u001b[1;33m\u001b[0m\u001b[0m\n\u001b[0m\u001b[0;32m   5592\u001b[0m             \u001b[0mindexer\u001b[0m \u001b[1;33m=\u001b[0m \u001b[0mindexer\u001b[0m\u001b[1;33m[\u001b[0m\u001b[1;33m~\u001b[0m\u001b[0mmask\u001b[0m\u001b[1;33m]\u001b[0m\u001b[1;33m\u001b[0m\u001b[1;33m\u001b[0m\u001b[0m\n\u001b[0;32m   5593\u001b[0m         \u001b[1;32mreturn\u001b[0m \u001b[0mself\u001b[0m\u001b[1;33m.\u001b[0m\u001b[0mdelete\u001b[0m\u001b[1;33m(\u001b[0m\u001b[0mindexer\u001b[0m\u001b[1;33m)\u001b[0m\u001b[1;33m\u001b[0m\u001b[1;33m\u001b[0m\u001b[0m\n",
      "\u001b[1;31mKeyError\u001b[0m: \"['Number of bedrooms'] not found in axis\""
     ]
    }
   ],
   "source": [
    "xtrain=xtrain.drop([\"Number of bedrooms\"],axis=1)"
   ]
  },
  {
   "cell_type": "code",
   "execution_count": 42,
   "id": "2452d16c",
   "metadata": {},
   "outputs": [
    {
     "data": {
      "text/html": [
       "<table class=\"simpletable\">\n",
       "<caption>OLS Regression Results</caption>\n",
       "<tr>\n",
       "  <th>Dep. Variable:</th>    <td>House price of unit area</td> <th>  R-squared:         </th> <td>   0.549</td>\n",
       "</tr>\n",
       "<tr>\n",
       "  <th>Model:</th>                       <td>OLS</td>           <th>  Adj. R-squared:    </th> <td>   0.535</td>\n",
       "</tr>\n",
       "<tr>\n",
       "  <th>Method:</th>                 <td>Least Squares</td>      <th>  F-statistic:       </th> <td>   39.58</td>\n",
       "</tr>\n",
       "<tr>\n",
       "  <th>Date:</th>                 <td>Wed, 23 Nov 2022</td>     <th>  Prob (F-statistic):</th> <td>2.79e-31</td>\n",
       "</tr>\n",
       "<tr>\n",
       "  <th>Time:</th>                     <td>18:12:50</td>         <th>  Log-Likelihood:    </th> <td>  200.18</td>\n",
       "</tr>\n",
       "<tr>\n",
       "  <th>No. Observations:</th>          <td>   202</td>          <th>  AIC:               </th> <td>  -386.4</td>\n",
       "</tr>\n",
       "<tr>\n",
       "  <th>Df Residuals:</th>              <td>   195</td>          <th>  BIC:               </th> <td>  -363.2</td>\n",
       "</tr>\n",
       "<tr>\n",
       "  <th>Df Model:</th>                  <td>     6</td>          <th>                     </th>     <td> </td>   \n",
       "</tr>\n",
       "<tr>\n",
       "  <th>Covariance Type:</th>          <td>nonrobust</td>        <th>                     </th>     <td> </td>   \n",
       "</tr>\n",
       "</table>\n",
       "<table class=\"simpletable\">\n",
       "<tr>\n",
       "                      <td></td>                        <th>coef</th>     <th>std err</th>      <th>t</th>      <th>P>|t|</th>  <th>[0.025</th>    <th>0.975]</th>  \n",
       "</tr>\n",
       "<tr>\n",
       "  <th>const</th>                                    <td>    0.2717</td> <td>    0.061</td> <td>    4.440</td> <td> 0.000</td> <td>    0.151</td> <td>    0.392</td>\n",
       "</tr>\n",
       "<tr>\n",
       "  <th>Transaction date</th>                         <td>    0.0422</td> <td>    0.021</td> <td>    1.992</td> <td> 0.048</td> <td>    0.000</td> <td>    0.084</td>\n",
       "</tr>\n",
       "<tr>\n",
       "  <th>House Age</th>                                <td>   -0.1115</td> <td>    0.025</td> <td>   -4.527</td> <td> 0.000</td> <td>   -0.160</td> <td>   -0.063</td>\n",
       "</tr>\n",
       "<tr>\n",
       "  <th>Distance from nearest Metro station (km)</th> <td>   -0.3217</td> <td>    0.064</td> <td>   -5.001</td> <td> 0.000</td> <td>   -0.449</td> <td>   -0.195</td>\n",
       "</tr>\n",
       "<tr>\n",
       "  <th>Number of convenience stores</th>             <td>    0.0798</td> <td>    0.029</td> <td>    2.796</td> <td> 0.006</td> <td>    0.024</td> <td>    0.136</td>\n",
       "</tr>\n",
       "<tr>\n",
       "  <th>latitude</th>                                 <td>    0.1699</td> <td>    0.049</td> <td>    3.456</td> <td> 0.001</td> <td>    0.073</td> <td>    0.267</td>\n",
       "</tr>\n",
       "<tr>\n",
       "  <th>longitude</th>                                <td>   -0.0657</td> <td>    0.065</td> <td>   -1.011</td> <td> 0.313</td> <td>   -0.194</td> <td>    0.062</td>\n",
       "</tr>\n",
       "</table>\n",
       "<table class=\"simpletable\">\n",
       "<tr>\n",
       "  <th>Omnibus:</th>       <td>150.853</td> <th>  Durbin-Watson:     </th> <td>   1.559</td>\n",
       "</tr>\n",
       "<tr>\n",
       "  <th>Prob(Omnibus):</th> <td> 0.000</td>  <th>  Jarque-Bera (JB):  </th> <td>2294.571</td>\n",
       "</tr>\n",
       "<tr>\n",
       "  <th>Skew:</th>          <td> 2.647</td>  <th>  Prob(JB):          </th> <td>    0.00</td>\n",
       "</tr>\n",
       "<tr>\n",
       "  <th>Kurtosis:</th>      <td>18.639</td>  <th>  Cond. No.          </th> <td>    24.5</td>\n",
       "</tr>\n",
       "</table><br/><br/>Notes:<br/>[1] Standard Errors assume that the covariance matrix of the errors is correctly specified."
      ],
      "text/plain": [
       "<class 'statsmodels.iolib.summary.Summary'>\n",
       "\"\"\"\n",
       "                               OLS Regression Results                               \n",
       "====================================================================================\n",
       "Dep. Variable:     House price of unit area   R-squared:                       0.549\n",
       "Model:                                  OLS   Adj. R-squared:                  0.535\n",
       "Method:                       Least Squares   F-statistic:                     39.58\n",
       "Date:                      Wed, 23 Nov 2022   Prob (F-statistic):           2.79e-31\n",
       "Time:                              18:12:50   Log-Likelihood:                 200.18\n",
       "No. Observations:                       202   AIC:                            -386.4\n",
       "Df Residuals:                           195   BIC:                            -363.2\n",
       "Df Model:                                 6                                         \n",
       "Covariance Type:                  nonrobust                                         \n",
       "============================================================================================================\n",
       "                                               coef    std err          t      P>|t|      [0.025      0.975]\n",
       "------------------------------------------------------------------------------------------------------------\n",
       "const                                        0.2717      0.061      4.440      0.000       0.151       0.392\n",
       "Transaction date                             0.0422      0.021      1.992      0.048       0.000       0.084\n",
       "House Age                                   -0.1115      0.025     -4.527      0.000      -0.160      -0.063\n",
       "Distance from nearest Metro station (km)    -0.3217      0.064     -5.001      0.000      -0.449      -0.195\n",
       "Number of convenience stores                 0.0798      0.029      2.796      0.006       0.024       0.136\n",
       "latitude                                     0.1699      0.049      3.456      0.001       0.073       0.267\n",
       "longitude                                   -0.0657      0.065     -1.011      0.313      -0.194       0.062\n",
       "==============================================================================\n",
       "Omnibus:                      150.853   Durbin-Watson:                   1.559\n",
       "Prob(Omnibus):                  0.000   Jarque-Bera (JB):             2294.571\n",
       "Skew:                           2.647   Prob(JB):                         0.00\n",
       "Kurtosis:                      18.639   Cond. No.                         24.5\n",
       "==============================================================================\n",
       "\n",
       "Notes:\n",
       "[1] Standard Errors assume that the covariance matrix of the errors is correctly specified.\n",
       "\"\"\""
      ]
     },
     "execution_count": 42,
     "metadata": {},
     "output_type": "execute_result"
    }
   ],
   "source": [
    "model3=sm.OLS(ytrain,xtrain)\n",
    "result3=model3.fit()\n",
    "result3.summary()"
   ]
  },
  {
   "cell_type": "code",
   "execution_count": 43,
   "id": "c4f3a06d",
   "metadata": {},
   "outputs": [
    {
     "data": {
      "text/html": [
       "<div>\n",
       "<style scoped>\n",
       "    .dataframe tbody tr th:only-of-type {\n",
       "        vertical-align: middle;\n",
       "    }\n",
       "\n",
       "    .dataframe tbody tr th {\n",
       "        vertical-align: top;\n",
       "    }\n",
       "\n",
       "    .dataframe thead th {\n",
       "        text-align: right;\n",
       "    }\n",
       "</style>\n",
       "<table border=\"1\" class=\"dataframe\">\n",
       "  <thead>\n",
       "    <tr style=\"text-align: right;\">\n",
       "      <th></th>\n",
       "      <th>Feature</th>\n",
       "      <th>VIF</th>\n",
       "    </tr>\n",
       "  </thead>\n",
       "  <tbody>\n",
       "    <tr>\n",
       "      <th>0</th>\n",
       "      <td>const</td>\n",
       "      <td>90.517505</td>\n",
       "    </tr>\n",
       "    <tr>\n",
       "      <th>1</th>\n",
       "      <td>Transaction date</td>\n",
       "      <td>1.039315</td>\n",
       "    </tr>\n",
       "    <tr>\n",
       "      <th>2</th>\n",
       "      <td>House Age</td>\n",
       "      <td>1.025115</td>\n",
       "    </tr>\n",
       "    <tr>\n",
       "      <th>3</th>\n",
       "      <td>Distance from nearest Metro station (km)</td>\n",
       "      <td>4.411406</td>\n",
       "    </tr>\n",
       "    <tr>\n",
       "      <th>4</th>\n",
       "      <td>Number of convenience stores</td>\n",
       "      <td>1.690468</td>\n",
       "    </tr>\n",
       "    <tr>\n",
       "      <th>5</th>\n",
       "      <td>latitude</td>\n",
       "      <td>1.563151</td>\n",
       "    </tr>\n",
       "    <tr>\n",
       "      <th>6</th>\n",
       "      <td>longitude</td>\n",
       "      <td>3.003648</td>\n",
       "    </tr>\n",
       "  </tbody>\n",
       "</table>\n",
       "</div>"
      ],
      "text/plain": [
       "                                    Feature        VIF\n",
       "0                                     const  90.517505\n",
       "1                          Transaction date   1.039315\n",
       "2                                 House Age   1.025115\n",
       "3  Distance from nearest Metro station (km)   4.411406\n",
       "4              Number of convenience stores   1.690468\n",
       "5                                  latitude   1.563151\n",
       "6                                 longitude   3.003648"
      ]
     },
     "execution_count": 43,
     "metadata": {},
     "output_type": "execute_result"
    }
   ],
   "source": [
    "from statsmodels.stats.outliers_influence import variance_inflation_factor\n",
    "\n",
    "vif_data=pd.DataFrame()\n",
    "vif_data[\"Feature\"]=xtrain.columns\n",
    "\n",
    "vif_data[\"VIF\"]=[variance_inflation_factor(xtrain.values,i) for i in range(len(xtrain.columns))]\n",
    "vif_data"
   ]
  },
  {
   "cell_type": "code",
   "execution_count": 44,
   "id": "79c7f34b",
   "metadata": {},
   "outputs": [],
   "source": [
    "xtrain=xtrain.drop([\"longitude\"],axis=1)"
   ]
  },
  {
   "cell_type": "code",
   "execution_count": 45,
   "id": "824c9aa0",
   "metadata": {},
   "outputs": [
    {
     "data": {
      "text/html": [
       "<table class=\"simpletable\">\n",
       "<caption>OLS Regression Results</caption>\n",
       "<tr>\n",
       "  <th>Dep. Variable:</th>    <td>House price of unit area</td> <th>  R-squared:         </th> <td>   0.547</td>\n",
       "</tr>\n",
       "<tr>\n",
       "  <th>Model:</th>                       <td>OLS</td>           <th>  Adj. R-squared:    </th> <td>   0.535</td>\n",
       "</tr>\n",
       "<tr>\n",
       "  <th>Method:</th>                 <td>Least Squares</td>      <th>  F-statistic:       </th> <td>   47.29</td>\n",
       "</tr>\n",
       "<tr>\n",
       "  <th>Date:</th>                 <td>Wed, 23 Nov 2022</td>     <th>  Prob (F-statistic):</th> <td>6.34e-32</td>\n",
       "</tr>\n",
       "<tr>\n",
       "  <th>Time:</th>                     <td>18:15:16</td>         <th>  Log-Likelihood:    </th> <td>  199.65</td>\n",
       "</tr>\n",
       "<tr>\n",
       "  <th>No. Observations:</th>          <td>   202</td>          <th>  AIC:               </th> <td>  -387.3</td>\n",
       "</tr>\n",
       "<tr>\n",
       "  <th>Df Residuals:</th>              <td>   196</td>          <th>  BIC:               </th> <td>  -367.5</td>\n",
       "</tr>\n",
       "<tr>\n",
       "  <th>Df Model:</th>                  <td>     5</td>          <th>                     </th>     <td> </td>   \n",
       "</tr>\n",
       "<tr>\n",
       "  <th>Covariance Type:</th>          <td>nonrobust</td>        <th>                     </th>     <td> </td>   \n",
       "</tr>\n",
       "</table>\n",
       "<table class=\"simpletable\">\n",
       "<tr>\n",
       "                      <td></td>                        <th>coef</th>     <th>std err</th>      <th>t</th>      <th>P>|t|</th>  <th>[0.025</th>    <th>0.975]</th>  \n",
       "</tr>\n",
       "<tr>\n",
       "  <th>const</th>                                    <td>    0.2183</td> <td>    0.031</td> <td>    7.077</td> <td> 0.000</td> <td>    0.157</td> <td>    0.279</td>\n",
       "</tr>\n",
       "<tr>\n",
       "  <th>Transaction date</th>                         <td>    0.0429</td> <td>    0.021</td> <td>    2.030</td> <td> 0.044</td> <td>    0.001</td> <td>    0.085</td>\n",
       "</tr>\n",
       "<tr>\n",
       "  <th>House Age</th>                                <td>   -0.1095</td> <td>    0.025</td> <td>   -4.460</td> <td> 0.000</td> <td>   -0.158</td> <td>   -0.061</td>\n",
       "</tr>\n",
       "<tr>\n",
       "  <th>Distance from nearest Metro station (km)</th> <td>   -0.2749</td> <td>    0.045</td> <td>   -6.157</td> <td> 0.000</td> <td>   -0.363</td> <td>   -0.187</td>\n",
       "</tr>\n",
       "<tr>\n",
       "  <th>Number of convenience stores</th>             <td>    0.0831</td> <td>    0.028</td> <td>    2.927</td> <td> 0.004</td> <td>    0.027</td> <td>    0.139</td>\n",
       "</tr>\n",
       "<tr>\n",
       "  <th>latitude</th>                                 <td>    0.1713</td> <td>    0.049</td> <td>    3.486</td> <td> 0.001</td> <td>    0.074</td> <td>    0.268</td>\n",
       "</tr>\n",
       "</table>\n",
       "<table class=\"simpletable\">\n",
       "<tr>\n",
       "  <th>Omnibus:</th>       <td>154.573</td> <th>  Durbin-Watson:     </th> <td>   1.554</td>\n",
       "</tr>\n",
       "<tr>\n",
       "  <th>Prob(Omnibus):</th> <td> 0.000</td>  <th>  Jarque-Bera (JB):  </th> <td>2483.442</td>\n",
       "</tr>\n",
       "<tr>\n",
       "  <th>Skew:</th>          <td> 2.720</td>  <th>  Prob(JB):          </th> <td>    0.00</td>\n",
       "</tr>\n",
       "<tr>\n",
       "  <th>Kurtosis:</th>      <td>19.293</td>  <th>  Cond. No.          </th> <td>    13.4</td>\n",
       "</tr>\n",
       "</table><br/><br/>Notes:<br/>[1] Standard Errors assume that the covariance matrix of the errors is correctly specified."
      ],
      "text/plain": [
       "<class 'statsmodels.iolib.summary.Summary'>\n",
       "\"\"\"\n",
       "                               OLS Regression Results                               \n",
       "====================================================================================\n",
       "Dep. Variable:     House price of unit area   R-squared:                       0.547\n",
       "Model:                                  OLS   Adj. R-squared:                  0.535\n",
       "Method:                       Least Squares   F-statistic:                     47.29\n",
       "Date:                      Wed, 23 Nov 2022   Prob (F-statistic):           6.34e-32\n",
       "Time:                              18:15:16   Log-Likelihood:                 199.65\n",
       "No. Observations:                       202   AIC:                            -387.3\n",
       "Df Residuals:                           196   BIC:                            -367.5\n",
       "Df Model:                                 5                                         \n",
       "Covariance Type:                  nonrobust                                         \n",
       "============================================================================================================\n",
       "                                               coef    std err          t      P>|t|      [0.025      0.975]\n",
       "------------------------------------------------------------------------------------------------------------\n",
       "const                                        0.2183      0.031      7.077      0.000       0.157       0.279\n",
       "Transaction date                             0.0429      0.021      2.030      0.044       0.001       0.085\n",
       "House Age                                   -0.1095      0.025     -4.460      0.000      -0.158      -0.061\n",
       "Distance from nearest Metro station (km)    -0.2749      0.045     -6.157      0.000      -0.363      -0.187\n",
       "Number of convenience stores                 0.0831      0.028      2.927      0.004       0.027       0.139\n",
       "latitude                                     0.1713      0.049      3.486      0.001       0.074       0.268\n",
       "==============================================================================\n",
       "Omnibus:                      154.573   Durbin-Watson:                   1.554\n",
       "Prob(Omnibus):                  0.000   Jarque-Bera (JB):             2483.442\n",
       "Skew:                           2.720   Prob(JB):                         0.00\n",
       "Kurtosis:                      19.293   Cond. No.                         13.4\n",
       "==============================================================================\n",
       "\n",
       "Notes:\n",
       "[1] Standard Errors assume that the covariance matrix of the errors is correctly specified.\n",
       "\"\"\""
      ]
     },
     "execution_count": 45,
     "metadata": {},
     "output_type": "execute_result"
    }
   ],
   "source": [
    "model4=sm.OLS(ytrain,xtrain)\n",
    "result4=model4.fit()\n",
    "result4.summary()"
   ]
  },
  {
   "cell_type": "code",
   "execution_count": 46,
   "id": "1cd06c17",
   "metadata": {},
   "outputs": [
    {
     "data": {
      "text/html": [
       "<div>\n",
       "<style scoped>\n",
       "    .dataframe tbody tr th:only-of-type {\n",
       "        vertical-align: middle;\n",
       "    }\n",
       "\n",
       "    .dataframe tbody tr th {\n",
       "        vertical-align: top;\n",
       "    }\n",
       "\n",
       "    .dataframe thead th {\n",
       "        text-align: right;\n",
       "    }\n",
       "</style>\n",
       "<table border=\"1\" class=\"dataframe\">\n",
       "  <thead>\n",
       "    <tr style=\"text-align: right;\">\n",
       "      <th></th>\n",
       "      <th>Feature</th>\n",
       "      <th>VIF</th>\n",
       "    </tr>\n",
       "  </thead>\n",
       "  <tbody>\n",
       "    <tr>\n",
       "      <th>0</th>\n",
       "      <td>const</td>\n",
       "      <td>22.990782</td>\n",
       "    </tr>\n",
       "    <tr>\n",
       "      <th>1</th>\n",
       "      <td>Transaction date</td>\n",
       "      <td>1.038003</td>\n",
       "    </tr>\n",
       "    <tr>\n",
       "      <th>2</th>\n",
       "      <td>House Age</td>\n",
       "      <td>1.018409</td>\n",
       "    </tr>\n",
       "    <tr>\n",
       "      <th>3</th>\n",
       "      <td>Distance from nearest Metro station (km)</td>\n",
       "      <td>2.124197</td>\n",
       "    </tr>\n",
       "    <tr>\n",
       "      <th>4</th>\n",
       "      <td>Number of convenience stores</td>\n",
       "      <td>1.669427</td>\n",
       "    </tr>\n",
       "    <tr>\n",
       "      <th>5</th>\n",
       "      <td>latitude</td>\n",
       "      <td>1.561874</td>\n",
       "    </tr>\n",
       "  </tbody>\n",
       "</table>\n",
       "</div>"
      ],
      "text/plain": [
       "                                    Feature        VIF\n",
       "0                                     const  22.990782\n",
       "1                          Transaction date   1.038003\n",
       "2                                 House Age   1.018409\n",
       "3  Distance from nearest Metro station (km)   2.124197\n",
       "4              Number of convenience stores   1.669427\n",
       "5                                  latitude   1.561874"
      ]
     },
     "execution_count": 46,
     "metadata": {},
     "output_type": "execute_result"
    }
   ],
   "source": [
    "from statsmodels.stats.outliers_influence import variance_inflation_factor\n",
    "\n",
    "vif_data=pd.DataFrame()\n",
    "vif_data[\"Feature\"]=xtrain.columns\n",
    "\n",
    "vif_data[\"VIF\"]=[variance_inflation_factor(xtrain.values,i) for i in range(len(xtrain.columns))]\n",
    "vif_data"
   ]
  },
  {
   "cell_type": "code",
   "execution_count": null,
   "id": "b79d48b4",
   "metadata": {},
   "outputs": [],
   "source": [
    "##so our final model will be"
   ]
  },
  {
   "cell_type": "code",
   "execution_count": null,
   "id": "356f56b7",
   "metadata": {},
   "outputs": [],
   "source": [
    "##y=(22.990782)+(1.038003)*transaction age+(1.018409)*house age+(2.124197)*Distance from nearest Metro station (km)+(1.669427)*Number of convenience stores\t+(1.561874)*latitude"
   ]
  }
 ],
 "metadata": {
  "kernelspec": {
   "display_name": "Python 3",
   "language": "python",
   "name": "python3"
  },
  "language_info": {
   "codemirror_mode": {
    "name": "ipython",
    "version": 3
   },
   "file_extension": ".py",
   "mimetype": "text/x-python",
   "name": "python",
   "nbconvert_exporter": "python",
   "pygments_lexer": "ipython3",
   "version": "3.8.8"
  }
 },
 "nbformat": 4,
 "nbformat_minor": 5
}
